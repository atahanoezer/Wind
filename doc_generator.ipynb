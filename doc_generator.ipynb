{
 "cells": [
  {
   "cell_type": "code",
   "execution_count": 5,
   "metadata": {},
   "outputs": [
    {
     "data": {
      "text/plain": [
       "'<script src=\"https://cdn.mathjax.org/mathjax/latest/MathJax.js?config=TeX-AMS-MML_HTMLorMML\" type=\"text/javascript\"></script>\\n\\n<link rel=\"stylesheet\" href=\"https://assets.readthedocs.org/static/css/readthedocs-doc-embed.css\" type=\"text/css\" />\\n\\n<style>\\n    a.src-href {\\n        float: right;\\n    }\\n    p.attr {\\n        margin-top: 0.5em;\\n        margin-left: 1em;\\n    }\\n    p.func-header {\\n        background-color: gainsboro;\\n        border-radius: 0.1em;\\n        padding: 0.5em;\\n        padding-left: 1em;\\n    }\\n    table.field-table {\\n        border-radius: 0.1em\\n    }\\n</style>##model.**Model**\\n\\n<p class=\"func-header\">\\n    <i>class</i> model.<b>Model</b>(<i>model_function: str=\\'cb\\', params: dict={}, prediction_type: str=\\'one_shot\\'</i>) <a class=\"src-href\" target=\"_blank\" href=\"https://github.com/atahanoezer/Wind.git/model.py#L10\">[source]</a>\\n</p>\\n\\n\\n\\n<table class=\"docutils field-list field-table\" frame=\"void\" rules=\"none\">\\n    <col class=\"field-name\" />\\n    <col class=\"field-body\" />\\n    <tbody valign=\"top\">\\n        \\n    </tbody>\\n</table>\\n\\n\\n\\n####Methods\\n\\n\\n\\n<p class=\"func-header\">\\n    <i></i> <b>train</b>(<i>self, train_x: pd.DataFrame, train_y: pd.DataFrame, val_x: pd. DataFrame, val_y: pd.DataFrame, multioutput: bool=False, verbose: int=500 </i>) <a class=\"src-href\" target=\"_blank\" href=\"https://github.com/atahanoezer/Wind.git/model.py#L56\">[source]</a>\\n</p>\\n\\nTrain the model.\\n\\n<table class=\"docutils field-list field-table\" frame=\"void\" rules=\"none\">\\n    <col class=\"field-name\" />\\n    <col class=\"field-body\" />\\n    <tbody valign=\"top\">\\n        <tr class=\"field\">\\n    <th class=\"field-name\"><b>Parameters:</b></td>\\n    <td class=\"field-body\" width=\"100%\"><b>train_x (pd.DataFrame) : <i></i></b>\\n<p class=\"attr\">\\n    Training input data.\\n</p>\\n<b>train_y (pd.DataFrame) : <i></i></b>\\n<p class=\"attr\">\\n    Training target data.\\n</p>\\n<b>val_x (pd.DataFrame) : <i></i></b>\\n<p class=\"attr\">\\n    Validation input data.\\n</p>\\n<b>val_y (pd.DataFrame) : <i></i></b>\\n<p class=\"attr\">\\n    Validation target data.\\n</p>\\n<b>multioutput (bool, optional) : <i></i></b>\\n<p class=\"attr\">\\n    Flag indicating if the model supports multioutput. Defaults to False.\\n</p>\\n<b>verbose (int, optional) : <i></i></b>\\n<p class=\"attr\">\\n    Verbosity level during training. Defaults to 500.\\n</p></td>\\n</tr>\\n<tr class=\"field\">\\n    <th class=\"field-name\"><b>Returns:</b></td>\\n    <td class=\"field-body\" width=\"100%\"><b>None : <i></i></b>\\n<p class=\"attr\">\\n    \\n</p></td>\\n</tr>\\n    </tbody>\\n</table>\\n\\n\\n\\n\\n\\n<p class=\"func-header\">\\n    <i></i> <b>predict</b>(<i>self, X: pd.DataFrame, horizon: int=1</i>) <a class=\"src-href\" target=\"_blank\" href=\"https://github.com/atahanoezer/Wind.git/model.py#L99\">[source]</a>\\n</p>\\n\\nMake predictions using the trained model depending on prediction type.\\nRecursive prediction only supports univariate data with previous steps as features.\\n\\n<table class=\"docutils field-list field-table\" frame=\"void\" rules=\"none\">\\n    <col class=\"field-name\" />\\n    <col class=\"field-body\" />\\n    <tbody valign=\"top\">\\n        <tr class=\"field\">\\n    <th class=\"field-name\"><b>Parameters:</b></td>\\n    <td class=\"field-body\" width=\"100%\"><b>X (pd.DataFrame) : <i></i></b>\\n<p class=\"attr\">\\n    Input data for prediction. horizon (int, optional): Number of steps to predict into the future. Defaults to 1.\\n</p></td>\\n</tr>\\n<tr class=\"field\">\\n    <th class=\"field-name\"><b>Returns:</b></td>\\n    <td class=\"field-body\" width=\"100%\"><b>np.ndarray : <i></i></b>\\n<p class=\"attr\">\\n    Predicted values.\\n</p></td>\\n</tr>\\n    </tbody>\\n</table>\\n\\n\\n\\n\\n\\n<p class=\"func-header\">\\n    <i></i> <b>model_summarizer</b>(<i>self, val_x: pd.DataFrame, val_y: pd.DataFrame, test_x: pd.DataFrame, test_y: pd.DataFrame, plots: bool=True, plot_steps: int= 2000, feat_importance: bool=True, feat_steps: int=15, feat_names: list= None, horizon: int=1</i>) <a class=\"src-href\" target=\"_blank\" href=\"https://github.com/atahanoezer/Wind.git/model.py#L134\">[source]</a>\\n</p>\\n\\nGenerate a summary of the model\\'s performance.\\n\\n<table class=\"docutils field-list field-table\" frame=\"void\" rules=\"none\">\\n    <col class=\"field-name\" />\\n    <col class=\"field-body\" />\\n    <tbody valign=\"top\">\\n        <tr class=\"field\">\\n    <th class=\"field-name\"><b>Parameters:</b></td>\\n    <td class=\"field-body\" width=\"100%\"><b>val_x (pd.DataFrame) : <i></i></b>\\n<p class=\"attr\">\\n    Validation input data.\\n</p>\\n<b>val_y (pd.DataFrame) : <i></i></b>\\n<p class=\"attr\">\\n    Validation target data.\\n</p>\\n<b>test_x (pd.DataFrame) : <i></i></b>\\n<p class=\"attr\">\\n    Test input data.\\n</p>\\n<b>test_y (pd.DataFrame) : <i></i></b>\\n<p class=\"attr\">\\n    Test target data.\\n</p>\\n<b>plots (bool, optional) : <i></i></b>\\n<p class=\"attr\">\\n    Flag indicating if plots should be generated. Defaults to True.\\n</p>\\n<b>plot_steps (int, optional) : <i></i></b>\\n<p class=\"attr\">\\n    Number of steps to include in the plots. Defaults to 2000.\\n</p>\\n<b>feat_importance (bool, optional) : <i></i></b>\\n<p class=\"attr\">\\n    Flag indicating if feature importance should be calculated and plotted. Defaults to True.\\n</p>\\n<b>feat_steps (int, optional) : <i></i></b>\\n<p class=\"attr\">\\n    Number of top features to display in the feature importance plot. Defaults to 15.\\n</p>\\n<b>feat_names (list, optional) : <i></i></b>\\n<p class=\"attr\">\\n    List of feature names. Defaults to None.\\n</p>\\n<b>horizon (int, optional) : <i></i></b>\\n<p class=\"attr\">\\n    Number of steps to predict into the future. Defaults to 1.\\n</p></td>\\n</tr>\\n<tr class=\"field\">\\n    <th class=\"field-name\"><b>Returns:</b></td>\\n    <td class=\"field-body\" width=\"100%\"><b>tuple : <i></i></b>\\n<p class=\"attr\">\\n    Tuple containing scores (MAE, RMSE, R2) and feature importances (if enabled).\\n</p></td>\\n</tr>\\n    </tbody>\\n</table>\\n\\n'"
      ]
     },
     "execution_count": 5,
     "metadata": {},
     "output_type": "execute_result"
    }
   ],
   "source": [
    "from docstr_md.python import PySoup, compile_md\n",
    "from docstr_md.src_href import Github\n",
    "\n",
    "src_href = Github('https://github.com/atahanoezer/Wind.git')\n",
    "soup = PySoup(path='model.py', parser='sklearn', src_href=src_href)\n",
    "compile_md(soup, compiler='sklearn', outfile='model.md')\n"
   ]
  },
  {
   "cell_type": "code",
   "execution_count": null,
   "metadata": {},
   "outputs": [],
   "source": []
  }
 ],
 "metadata": {
  "kernelspec": {
   "display_name": "Python 3",
   "language": "python",
   "name": "python3"
  },
  "language_info": {
   "codemirror_mode": {
    "name": "ipython",
    "version": 3
   },
   "file_extension": ".py",
   "mimetype": "text/x-python",
   "name": "python",
   "nbconvert_exporter": "python",
   "pygments_lexer": "ipython3",
   "version": "3.10.11"
  },
  "orig_nbformat": 4
 },
 "nbformat": 4,
 "nbformat_minor": 2
}
