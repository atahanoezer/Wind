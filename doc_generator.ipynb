{
 "cells": [
  {
   "cell_type": "code",
   "execution_count": null,
   "metadata": {},
   "outputs": [],
   "source": [
    "from docstr_md.python import PySoup, compile_md\n",
    "from docstr_md.src_href import Github\n",
    "\n",
    "src_href = Github('https://github.com/dsbowen/docstr-md/blob/master')\n",
    "soup = PySoup(path='test.py', parser='sklearn', src_href=src_href)\n",
    "compile_md(soup, compiler='sklearn', outfile='test.md')\n"
   ]
  }
 ],
 "metadata": {
  "language_info": {
   "name": "python"
  },
  "orig_nbformat": 4
 },
 "nbformat": 4,
 "nbformat_minor": 2
}
