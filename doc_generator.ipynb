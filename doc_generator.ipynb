{
 "cells": [
  {
   "cell_type": "code",
   "execution_count": 2,
   "metadata": {},
   "outputs": [
    {
     "data": {
      "text/plain": [
       "'<script src=\"https://cdn.mathjax.org/mathjax/latest/MathJax.js?config=TeX-AMS-MML_HTMLorMML\" type=\"text/javascript\"></script>\\n\\n<link rel=\"stylesheet\" href=\"https://assets.readthedocs.org/static/css/readthedocs-doc-embed.css\" type=\"text/css\" />\\n\\n<style>\\n    a.src-href {\\n        float: right;\\n    }\\n    p.attr {\\n        margin-top: 0.5em;\\n        margin-left: 1em;\\n    }\\n    p.func-header {\\n        background-color: gainsboro;\\n        border-radius: 0.1em;\\n        padding: 0.5em;\\n        padding-left: 1em;\\n    }\\n    table.field-table {\\n        border-radius: 0.1em\\n    }\\n</style>##dataset.**Dataset**\\n\\n<p class=\"func-header\">\\n    <i>class</i> dataset.<b>Dataset</b>(<i>df: pd.DataFrame</i>) <a class=\"src-href\" target=\"_blank\" href=\"https://github.com/atahanoezer/Wind.git/dataset.py#L5\">[source]</a>\\n</p>\\n\\n\\n\\n<table class=\"docutils field-list field-table\" frame=\"void\" rules=\"none\">\\n    <col class=\"field-name\" />\\n    <col class=\"field-body\" />\\n    <tbody valign=\"top\">\\n        \\n    </tbody>\\n</table>\\n\\n\\n\\n####Methods\\n\\n\\n\\n<p class=\"func-header\">\\n    <i></i> <b>fill_nan</b>(<i>self, fields: list</i>) <a class=\"src-href\" target=\"_blank\" href=\"https://github.com/atahanoezer/Wind.git/dataset.py#L15\">[source]</a>\\n</p>\\n\\nFill missing values (NaN) in the specified fields/columns of the DataFrame.\\n\\nArgs:\\nfields (list): List of fields/columns to fill missing values.\\n\\nReturns:\\nNone\\n\\n<table class=\"docutils field-list field-table\" frame=\"void\" rules=\"none\">\\n    <col class=\"field-name\" />\\n    <col class=\"field-body\" />\\n    <tbody valign=\"top\">\\n        \\n    </tbody>\\n</table>\\n\\n\\n\\n\\n\\n<p class=\"func-header\">\\n    <i></i> <b>drop_nan</b>(<i>self, fields: list</i>) <a class=\"src-href\" target=\"_blank\" href=\"https://github.com/atahanoezer/Wind.git/dataset.py#L29\">[source]</a>\\n</p>\\n\\nDrop rows containing NaN values in the specified fields/columns of the DataFrame.\\n\\nArgs:\\nfields (list): List of fields/columns to drop rows with NaN values.\\n\\nReturns:\\nNone\\n\\n<table class=\"docutils field-list field-table\" frame=\"void\" rules=\"none\">\\n    <col class=\"field-name\" />\\n    <col class=\"field-body\" />\\n    <tbody valign=\"top\">\\n        \\n    </tbody>\\n</table>\\n\\n\\n\\n\\n\\n<p class=\"func-header\">\\n    <i></i> <b>sample</b>(<i>self, n: int</i>) <a class=\"src-href\" target=\"_blank\" href=\"https://github.com/atahanoezer/Wind.git/dataset.py#L41\">[source]</a>\\n</p>\\n\\nSample every nth row from the DataFrame.\\n\\nArgs:\\nn (int): Sampling interval.\\n\\nReturns:\\nNone\\n\\n<table class=\"docutils field-list field-table\" frame=\"void\" rules=\"none\">\\n    <col class=\"field-name\" />\\n    <col class=\"field-body\" />\\n    <tbody valign=\"top\">\\n        \\n    </tbody>\\n</table>\\n\\n\\n\\n\\n\\n<p class=\"func-header\">\\n    <i></i> <b>apply_rolling_window</b>(<i>self, df: pd.DataFrame, data: str, roll_time: int, window_function: callable</i>) <a class=\"src-href\" target=\"_blank\" href=\"https://github.com/atahanoezer/Wind.git/dataset.py#L53\">[source]</a>\\n</p>\\n\\nApply a rolling window function to the specified data column in the DataFrame.\\n\\nArgs:\\ndf (pd.DataFrame): DataFrame to which the rolling window function will be applied.\\ndata (str): Column name containing the data to apply the rolling window function.\\nroll_time (int): Window size for the rolling window.\\nwindow_function (callable): Callable function to apply as the rolling window function.\\nReturns:\\nNone\\n\\n<table class=\"docutils field-list field-table\" frame=\"void\" rules=\"none\">\\n    <col class=\"field-name\" />\\n    <col class=\"field-body\" />\\n    <tbody valign=\"top\">\\n        \\n    </tbody>\\n</table>\\n\\n\\n\\n\\n\\n<p class=\"func-header\">\\n    <i></i> <b>add_last_t</b>(<i>self, df: pd.DataFrame, data: str, step: int=2</i>) <a class=\"src-href\" target=\"_blank\" href=\"https://github.com/atahanoezer/Wind.git/dataset.py#L76\">[source]</a>\\n</p>\\n\\nAdd lagged versions of a column to the DataFrame.\\n\\nArgs:\\ndf (pd.DataFrame): DataFrame to which the lagged columns will be added.\\ndata (str): Column name to create lagged versions of.\\nstep (int, optional): Number of lagged steps to add. Defaults to 2.\\n\\nReturns:\\nNone\\n\\n<table class=\"docutils field-list field-table\" frame=\"void\" rules=\"none\">\\n    <col class=\"field-name\" />\\n    <col class=\"field-body\" />\\n    <tbody valign=\"top\">\\n        \\n    </tbody>\\n</table>\\n\\n\\n\\n\\n\\n<p class=\"func-header\">\\n    <i></i> <b>add_seasonal_feat</b>(<i>self, df: pd.DataFrame, time_col</i>) <a class=\"src-href\" target=\"_blank\" href=\"https://github.com/atahanoezer/Wind.git/dataset.py#L92\">[source]</a>\\n</p>\\n\\nAdd seasonal features based on a time column.\\n\\nArgs:\\ndf (pd.DataFrame): DataFrame to which the seasonal features will be added.\\ntime_col: Time column to extract seasonal features from.\\n\\nReturns:\\nNone\\n\\n<table class=\"docutils field-list field-table\" frame=\"void\" rules=\"none\">\\n    <col class=\"field-name\" />\\n    <col class=\"field-body\" />\\n    <tbody valign=\"top\">\\n        \\n    </tbody>\\n</table>\\n\\n\\n\\n\\n\\n<p class=\"func-header\">\\n    <i></i> <b>create_dataset</b>(<i>self, df: pd.DataFrame, window_size: int, prediction_horizon: int, test_split: float=0.2, val_split: float=0.2, univariate: bool=False, target_col: str=\\'active_power_total\\'</i>) <a class=\"src-href\" target=\"_blank\" href=\"https://github.com/atahanoezer/Wind.git/dataset.py#L108\">[source]</a>\\n</p>\\n\\nCreate a dataset for training and evaluation.\\n\\nArgs:\\ndf (pd.DataFrame): Input DataFrame containing the data.\\nwindow_size (int): Size of the input window.\\nprediction_horizon (int): Number of steps to predict into the future.\\ntest_split (float, optional): Ratio of test data split. Defaults to 0.2.\\nval_split (float, optional): Ratio of validation data split. Defaults to 0.2.\\nunivariate (bool, optional): Flag indicating if the data is univariate. Defaults to False.\\ntarget_col (str, optional): Name of the target column. Defaults to \"active_power_total\".\\n\\nReturns:\\ntuple: Tuple containing train,val and test data and labels, as well as feature names.\\n\\n<table class=\"docutils field-list field-table\" frame=\"void\" rules=\"none\">\\n    <col class=\"field-name\" />\\n    <col class=\"field-body\" />\\n    <tbody valign=\"top\">\\n        \\n    </tbody>\\n</table>\\n\\n'"
      ]
     },
     "execution_count": 2,
     "metadata": {},
     "output_type": "execute_result"
    }
   ],
   "source": [
    "from docstr_md.python import PySoup, compile_md\n",
    "from docstr_md.src_href import Github\n",
    "\n",
    "src_href = Github('https://github.com/atahanoezer/Wind.git')\n",
    "soup = PySoup(path='dataset.py', parser='sklearn', src_href=src_href)\n",
    "compile_md(soup, compiler='sklearn', outfile='dataset.md')\n"
   ]
  },
  {
   "cell_type": "code",
   "execution_count": null,
   "metadata": {},
   "outputs": [],
   "source": []
  }
 ],
 "metadata": {
  "kernelspec": {
   "display_name": "Python 3",
   "language": "python",
   "name": "python3"
  },
  "language_info": {
   "codemirror_mode": {
    "name": "ipython",
    "version": 3
   },
   "file_extension": ".py",
   "mimetype": "text/x-python",
   "name": "python",
   "nbconvert_exporter": "python",
   "pygments_lexer": "ipython3",
   "version": "3.10.11"
  },
  "orig_nbformat": 4
 },
 "nbformat": 4,
 "nbformat_minor": 2
}
